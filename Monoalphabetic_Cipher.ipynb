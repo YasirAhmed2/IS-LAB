{
 "cells": [
  {
   "cell_type": "code",
   "execution_count": null,
   "id": "02750ce9-36d0-48f4-9462-a17e77e4a4e8",
   "metadata": {},
   "outputs": [],
   "source": []
  },
  {
   "cell_type": "markdown",
   "id": "b6944f12-3738-4bc5-912b-df0f72a2bfe1",
   "metadata": {},
   "source": [
    "# MONOALPHABETIC CIPHER"
   ]
  },
  {
   "cell_type": "code",
   "execution_count": 4,
   "id": "998f2510-5db0-418b-8402-969cfd98cb74",
   "metadata": {},
   "outputs": [
    {
     "name": "stdout",
     "output_type": "stream",
     "text": [
      "Encryption dic:  {'A': 'D', 'B': 'K', 'C': 'V', 'D': 'Q', 'E': 'F', 'F': 'I', 'G': 'B', 'H': 'J', 'I': 'W', 'J': 'P', 'K': 'E', 'L': 'S', 'M': 'C', 'N': 'X', 'O': 'H', 'P': 'T', 'Q': 'M', 'R': 'Y', 'S': 'A', 'T': 'U', 'U': 'O', 'V': 'L', 'W': 'R', 'X': 'G', 'Y': 'Z', 'Z': 'N'}\n"
     ]
    }
   ],
   "source": [
    "# =====================================================================\n",
    "#                    MONOALPHABETIC CIPHER IN PYTHON\n",
    "# =====================================================================\n",
    "# Author: Muhammad Hamza\n",
    "# Description:\n",
    "# A Monoalphabetic Cipher is a type of substitution cipher where\n",
    "# each letter in the plaintext is replaced by another letter from \n",
    "# a fixed substitution key. The key is a permutation (rearrangement)\n",
    "# of the 26 English alphabets.\n",
    "#\n",
    "# Example:\n",
    "#   Plaintext alphabet : ABCDEFGHIJKLMNOPQRSTUVWXYZ\n",
    "#   Ciphertext alphabet: QWERTYUIOPASDFGHJKLZXCVBNM\n",
    "#\n",
    "#   Plaintext  ->  HELLO WORLD\n",
    "#   Ciphertext ->  ITSSG VGKSR\n",
    "# =====================================================================\n",
    "\n",
    "# Step 1: Import necessary module\n",
    "# The 'string' module provides constants such as ascii_uppercase.\n",
    "import string\n",
    "\n",
    "# Step 2: Define the original English alphabet (A-Z)\n",
    "alphabet = string.ascii_uppercase  # 'ABCDEFGHIJKLMNOPQRSTUVWXYZ'\n",
    "\n",
    "# Step 3: Define a substitution key\n",
    "# The key should be a rearrangement (permutation) of A-Z.\n",
    "# Each letter in the plaintext will be replaced by the corresponding\n",
    "# letter in this key. For example, A -> Q, B -> W, C -> E, etc.\n",
    "key = \"DKVQFIBJWPESCXHTMYAUOLRGZN\"\n",
    "#\"QWERTYUIOPASDFGHJKLZXCVBNM\"\n",
    "\n",
    "# Step 4: Create encryption and decryption dictionaries\n",
    "# These will help us quickly find the substitution for each letter.\n",
    "# - encryption_dict maps plaintext letters to ciphertext letters.\n",
    "# - decryption_dict maps ciphertext letters back to plaintext letters.\n",
    "encryption_dict = {alphabet[i]: key[i] for i in range(26)}\n",
    "decryption_dict = {key[i]: alphabet[i] for i in range(26)}\n",
    "\n",
    "print(\"Encryption dic: \", encryption_dict)\n"
   ]
  },
  {
   "cell_type": "code",
   "execution_count": 5,
   "id": "c18ce86d-e613-4a79-9bb3-b4699a9655d6",
   "metadata": {},
   "outputs": [],
   "source": [
    "# Step 5: Define the encryption function\n",
    "def encrypt(plaintext):\n",
    "    \"\"\"\n",
    "    Encrypts a plaintext message using the monoalphabetic cipher.\n",
    "\n",
    "    Parameters:\n",
    "        plaintext (str): The original message to be encrypted.\n",
    "\n",
    "    Returns:\n",
    "        ciphertext (str): The encrypted message.\n",
    "    \"\"\"\n",
    "    ciphertext = \"\"  # Empty string to store the result\n",
    "\n",
    "    # Loop through each character in the plaintext\n",
    "    for char in plaintext.upper():  # Convert to uppercase for uniformity\n",
    "        if char in encryption_dict:\n",
    "            # Substitute the letter using the encryption dictionary\n",
    "            ciphertext += encryption_dict[char]\n",
    "        else:\n",
    "            # If it's not a letter (e.g., space, number, punctuation),\n",
    "            # we keep it unchanged.\n",
    "            ciphertext += char\n",
    "\n",
    "    return ciphertext\n",
    "\n",
    "# Step 6: Define the decryption function\n",
    "def decrypt(ciphertext):\n",
    "    \"\"\"\n",
    "    Decrypts a ciphertext message back to its original plaintext.\n",
    "\n",
    "    Parameters:\n",
    "        ciphertext (str): The encrypted message to be decrypted.\n",
    "\n",
    "    Returns:\n",
    "        plaintext (str): The original decrypted message.\n",
    "    \"\"\"\n",
    "    plaintext = \"\"  # Empty string to store the result\n",
    "\n",
    "    # Loop through each character in the ciphertext\n",
    "    for char in ciphertext.upper():  # Convert to uppercase for uniformity\n",
    "        if char in decryption_dict:\n",
    "            # Substitute the letter using the decryption dictionary\n",
    "            plaintext += decryption_dict[char]\n",
    "        else:\n",
    "            # Keep non-alphabetic characters unchanged\n",
    "            plaintext += char\n",
    "\n",
    "    return plaintext\n",
    "\n"
   ]
  },
  {
   "cell_type": "code",
   "execution_count": 6,
   "id": "72be53bc-7755-4a11-8db8-9a00db045a65",
   "metadata": {},
   "outputs": [
    {
     "name": "stdin",
     "output_type": "stream",
     "text": [
      "Enter a message to encrypt:  i belong to haripur\n"
     ]
    },
    {
     "name": "stdout",
     "output_type": "stream",
     "text": [
      "\n",
      "Encrypted Message: W KFSHXB UH JDYWTOY\n",
      "Decrypted Message: I BELONG TO HARIPUR\n",
      "\n",
      "Encryption Key Mapping:\n",
      "A -> D\n",
      "B -> K\n",
      "C -> V\n",
      "D -> Q\n",
      "E -> F\n",
      "F -> I\n",
      "G -> B\n",
      "H -> J\n",
      "I -> W\n",
      "J -> P\n",
      "K -> E\n",
      "L -> S\n",
      "M -> C\n",
      "N -> X\n",
      "O -> H\n",
      "P -> T\n",
      "Q -> M\n",
      "R -> Y\n",
      "S -> A\n",
      "T -> U\n",
      "U -> O\n",
      "V -> L\n",
      "W -> R\n",
      "X -> G\n",
      "Y -> Z\n",
      "Z -> N\n"
     ]
    }
   ],
   "source": [
    "# Step 7: Demonstration\n",
    "if __name__ == \"__main__\":\n",
    "    # Ask the user for input\n",
    "    message = input(\"Enter a message to encrypt: \")\n",
    "\n",
    "    # Encrypt the message\n",
    "    encrypted_message = encrypt(message)\n",
    "    print(\"\\nEncrypted Message:\", encrypted_message)\n",
    "\n",
    "    # Decrypt the message\n",
    "    decrypted_message = decrypt(encrypted_message)\n",
    "    print(\"Decrypted Message:\", decrypted_message)\n",
    "\n",
    "    # Display the key mappings (optional for better understanding)\n",
    "    print(\"\\nEncryption Key Mapping:\")\n",
    "    for plain, cipher in encryption_dict.items():\n",
    "        print(f\"{plain} -> {cipher}\")\n"
   ]
  },
  {
   "cell_type": "code",
   "execution_count": null,
   "id": "e8b1bbaa-607d-4f29-bdf5-d5f77afd1d20",
   "metadata": {},
   "outputs": [],
   "source": []
  }
 ],
 "metadata": {
  "kernelspec": {
   "display_name": "Python 3 (ipykernel)",
   "language": "python",
   "name": "python3"
  },
  "language_info": {
   "codemirror_mode": {
    "name": "ipython",
    "version": 3
   },
   "file_extension": ".py",
   "mimetype": "text/x-python",
   "name": "python",
   "nbconvert_exporter": "python",
   "pygments_lexer": "ipython3",
   "version": "3.13.7"
  }
 },
 "nbformat": 4,
 "nbformat_minor": 5
}
