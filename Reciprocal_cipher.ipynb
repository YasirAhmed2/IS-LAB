{
 "cells": [
  {
   "cell_type": "code",
   "execution_count": 4,
   "id": "d79e4c8a-b77b-4fdf-ab75-987767434b8d",
   "metadata": {},
   "outputs": [
    {
     "name": "stdout",
     "output_type": "stream",
     "text": [
      "HEllo\n"
     ]
    }
   ],
   "source": [
    "print(\"HEllo\")"
   ]
  },
  {
   "cell_type": "code",
   "execution_count": null,
   "id": "82f3e4df",
   "metadata": {},
   "outputs": [],
   "source": [
    "# Example:\n",
    "ord('A') + ord('Z') = 65 + 90 = 155\n",
    "ord('B') + ord('Y') = 66 + 89 = 155\n",
    "ord('C') + ord('X') = 67 + 88 = 155\n",
    "\n",
    "chr(90) → 'Z'\n",
    "chr(89) → 'Y'"
   ]
  },
  {
   "cell_type": "code",
   "execution_count": 5,
   "id": "f193ffe0",
   "metadata": {},
   "outputs": [],
   "source": [
    "# ============================================================\n",
    "# Reciprocal Cipher Implementation in Python\n",
    "\n",
    "def reciprocal_cipher(text):\n",
    "    \"\"\"\n",
    "    Encrypts or decrypts a given text using Reciprocal Cipher.\n",
    "    Since it is reciprocal, the same function can be used\n",
    "    for both encryption and decryption.\n",
    "    \n",
    "    Parameters:\n",
    "        text (str): The message to encrypt or decrypt.\n",
    "    \n",
    "    Returns:\n",
    "        str: The transformed text.\n",
    "    \"\"\"\n",
    "    \n",
    "    # Convert input text to uppercase to handle uniformly\n",
    "    text = text.upper()\n",
    "    \n",
    "    # Define empty string to store result\n",
    "    result = \"\"\n",
    "    \n",
    "    # Loop through each character in the input text\n",
    "    for char in text:\n",
    "        # Check if the character is an alphabet letter\n",
    "        if 'A' <= char <= 'Z':\n",
    "            # Formula:\n",
    "            # A(65) -> Z(90)\n",
    "            # B(66) -> Y(89)\n",
    "            # So we can use: new_char = chr(155 - ord(char))\n",
    "            # This line takes a character (like 'A' or 'B') and finds its “mirror” in the alphabet — e.g. A ↔ Z, B ↔ Y, etc.\n",
    "            #The ord() function gives the ASCII (Unicode) number of a character.\n",
    "            reciprocal_char = chr(155 - ord(char))\n",
    "            result += reciprocal_char\n",
    "        else:\n",
    "            # For non-alphabetic characters (spaces, digits, etc.)\n",
    "            # keep them unchanged\n",
    "            result += char\n",
    "    \n",
    "    # Return the encrypted/decrypted text\n",
    "    return result\n",
    "\n",
    "\n"
   ]
  },
  {
   "cell_type": "code",
   "execution_count": 6,
   "id": "a6acfe7e-0ebe-40db-84c9-56c6081d1509",
   "metadata": {},
   "outputs": [
    {
     "name": "stdout",
     "output_type": "stream",
     "text": [
      "=== Reciprocal Cipher Demo ===\n"
     ]
    },
    {
     "name": "stdin",
     "output_type": "stream",
     "text": [
      "Enter message:  i belong to haripur\n"
     ]
    },
    {
     "name": "stdout",
     "output_type": "stream",
     "text": [
      "Encrypted/Decrypted Text: R YVOLMT GL SZIRKFI\n",
      "Applying cipher again gives: I BELONG TO HARIPUR\n"
     ]
    }
   ],
   "source": [
    "# ============================================================\n",
    "# Main Program\n",
    "# ============================================================\n",
    "\n",
    "if __name__ == \"__main__\":\n",
    "    print(\"=== Reciprocal Cipher Demo ===\")\n",
    "    \n",
    "    # Take user input\n",
    "    message = input(\"Enter message: \")\n",
    "    \n",
    "    # Encrypt (same as decrypt)\n",
    "    cipher_text = reciprocal_cipher(message)\n",
    "    print(\"Encrypted/Decrypted Text:\", cipher_text)\n",
    "    \n",
    "    # Apply again to verify reciprocity\n",
    "    original_text = reciprocal_cipher(cipher_text)\n",
    "    print(\"Applying cipher again gives:\", original_text)\n"
   ]
  },
  {
   "cell_type": "code",
   "execution_count": null,
   "id": "1221038b-def2-406e-b840-3b2d19779c47",
   "metadata": {},
   "outputs": [],
   "source": []
  }
 ],
 "metadata": {
  "kernelspec": {
   "display_name": "Python 3 (ipykernel)",
   "language": "python",
   "name": "python3"
  },
  "language_info": {
   "codemirror_mode": {
    "name": "ipython",
    "version": 3
   },
   "file_extension": ".py",
   "mimetype": "text/x-python",
   "name": "python",
   "nbconvert_exporter": "python",
   "pygments_lexer": "ipython3",
   "version": "3.13.7"
  }
 },
 "nbformat": 4,
 "nbformat_minor": 5
}
