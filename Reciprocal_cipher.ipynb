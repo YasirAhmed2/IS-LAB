{
 "cells": [
  {
   "cell_type": "code",
   "execution_count": null,
   "id": "d79e4c8a-b77b-4fdf-ab75-987767434b8d",
   "metadata": {},
   "outputs": [],
   "source": []
  }
 ],
 "metadata": {
  "kernelspec": {
   "display_name": "",
   "name": ""
  },
  "language_info": {
   "name": ""
  }
 },
 "nbformat": 4,
 "nbformat_minor": 5
}
