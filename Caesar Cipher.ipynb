{
 "cells": [
  {
   "cell_type": "markdown",
   "id": "5d7b348c-4022-4ade-b8ee-979b049f3771",
   "metadata": {},
   "source": [
    "# Caesar Cipher"
   ]
  },
  {
   "cell_type": "code",
   "execution_count": 3,
   "id": "8f701351-b284-406c-8f46-387647a51a74",
   "metadata": {},
   "outputs": [],
   "source": [
    "# -------------------------------------------------------------\n",
    "# Program: Caesar Cipher (Encryption and Decryption)\n",
    "# -------------------------------------------------------------\n",
    "# Description:\n",
    "# The Caesar Cipher is a simple encryption technique that shifts\n",
    "# each letter in the text by a fixed number (called \"shift value\").\n",
    "# For example, with shift = 3 → A becomes D, B becomes E, etc.\n",
    "# -------------------------------------------------------------\n",
    "\n",
    "def caesar_cipher(text, shift, mode='encrypt'):\n",
    "    \"\"\"\n",
    "    Encrypts or decrypts a message using the Caesar cipher.\n",
    "    \n",
    "    Parameters:\n",
    "        text (str): The input message (plain text or cipher text)\n",
    "        shift (int): The number of positions to shift (e.g., 3)\n",
    "        mode (str): 'encrypt' or 'decrypt'\n",
    "        \n",
    "    Returns:\n",
    "        str: The encrypted or decrypted message\n",
    "    \"\"\"\n",
    "    \n",
    "    result = \"\"  # This variable will store the final output text\n",
    "    \n",
    "    # If mode is 'decrypt', we reverse the shift direction\n",
    "    if mode == 'decrypt':\n",
    "        shift = -shift\n",
    "    \n",
    "    # Loop through each character in the input text\n",
    "    for char in text:\n",
    "        # If the character is an uppercase English letter (A-Z)\n",
    "        if char.isupper():\n",
    "            # ord('A') = 65, ord('Z') = 90\n",
    "            # Shift the character and wrap around using modulo 26\n",
    "            result += chr((ord(char) - 65 + shift) % 26 + 65)\n",
    "        \n",
    "        # If the character is a lowercase English letter (a-z)\n",
    "        elif char.islower():\n",
    "            # ord('a') = 97, ord('z') = 122\n",
    "            # Similar shifting logic for lowercase letters\n",
    "            result += chr((ord(char) - 97 + shift) % 26 + 97)\n",
    "        \n",
    "        # If it's not an alphabetic character (like space, punctuation, number)\n",
    "        # we keep it unchanged\n",
    "        else:\n",
    "            result += char\n",
    "    \n",
    "    # Return the final encrypted or decrypted message\n",
    "    return result\n"
   ]
  },
  {
   "cell_type": "code",
   "execution_count": 4,
   "id": "f588e0f0-c4cb-4faa-a7dd-743b3dddb5a0",
   "metadata": {},
   "outputs": [
    {
     "name": "stdin",
     "output_type": "stream",
     "text": [
      "Enter your message:  i belong to haripur\n",
      "Enter the shift value (e.g., 3):  4\n",
      "Do you want to 'encrypt' or 'decrypt'?  encrypt\n"
     ]
    },
    {
     "name": "stdout",
     "output_type": "stream",
     "text": [
      "\n",
      "---------------------------------\n",
      "🔐 Encrypted Message: m fipsrk xs levmtyv\n",
      "---------------------------------\n"
     ]
    }
   ],
   "source": [
    "# Take user input for the message\n",
    "text = input(\"Enter your message: \")\n",
    "\n",
    "# Take user input for the shift value (convert to integer)\n",
    "shift = int(input(\"Enter the shift value (e.g., 3): \"))\n",
    "\n",
    "# Ask user for the mode (encrypt/decrypt)\n",
    "mode = input(\"Do you want to 'encrypt' or 'decrypt'? \").lower()\n",
    "\n",
    "# Call the Caesar cipher function with user inputs\n",
    "output = caesar_cipher(text, shift, mode)\n",
    "\n",
    "# Print the final result\n",
    "print(\"\\n---------------------------------\")\n",
    "if mode == 'encrypt':\n",
    "    print(\"🔐 Encrypted Message:\", output)\n",
    "elif mode == 'decrypt':\n",
    "    print(\"🔓 Decrypted Message:\", output)\n",
    "else:\n",
    "    print(\"❌ Invalid mode selected. Please type 'encrypt' or 'decrypt'.\")\n",
    "print(\"---------------------------------\")\n"
   ]
  },
  {
   "cell_type": "code",
   "execution_count": null,
   "id": "280e331a-97ee-4f51-83b8-6dbaafc96cdd",
   "metadata": {},
   "outputs": [],
   "source": []
  }
 ],
 "metadata": {
  "kernelspec": {
   "display_name": "Python 3 (ipykernel)",
   "language": "python",
   "name": "python3"
  },
  "language_info": {
   "codemirror_mode": {
    "name": "ipython",
    "version": 3
   },
   "file_extension": ".py",
   "mimetype": "text/x-python",
   "name": "python",
   "nbconvert_exporter": "python",
   "pygments_lexer": "ipython3",
   "version": "3.13.7"
  }
 },
 "nbformat": 4,
 "nbformat_minor": 5
}
